{
 "cells": [
  {
   "cell_type": "markdown",
   "metadata": {},
   "source": [
    "# AMath 574 Homework 4\n",
    "\n",
    "## Partial solution for p-system Riemann problems"
   ]
  },
  {
   "cell_type": "code",
   "execution_count": null,
   "metadata": {
    "collapsed": false
   },
   "outputs": [],
   "source": [
    "%matplotlib inline"
   ]
  },
  {
   "cell_type": "code",
   "execution_count": null,
   "metadata": {
    "collapsed": false
   },
   "outputs": [],
   "source": [
    "from __future__ import print_function"
   ]
  },
  {
   "cell_type": "code",
   "execution_count": null,
   "metadata": {
    "collapsed": false
   },
   "outputs": [],
   "source": [
    "from pylab import *"
   ]
  },
  {
   "cell_type": "code",
   "execution_count": null,
   "metadata": {
    "collapsed": false
   },
   "outputs": [],
   "source": [
    "from scipy.optimize import fsolve  # for solving nonlinear equation"
   ]
  },
  {
   "cell_type": "code",
   "execution_count": null,
   "metadata": {
    "collapsed": false
   },
   "outputs": [],
   "source": [
    "matplotlib.rc('text', usetex = True)  # to allow subscripts in annotations"
   ]
  },
  {
   "cell_type": "code",
   "execution_count": null,
   "metadata": {
    "collapsed": false
   },
   "outputs": [],
   "source": [
    "p = lambda v: -exp(v)    "
   ]
  },
  {
   "cell_type": "code",
   "execution_count": null,
   "metadata": {
    "collapsed": false
   },
   "outputs": [],
   "source": [
    "def hugoniot_loci(vstar,ustar):\n",
    "    \"\"\"\n",
    "    ustar and vstar are a single state or a list of states.\n",
    "    \"\"\"\n",
    "    if type(ustar) in [float,int]:\n",
    "        # turn scalars into lists with one element:\n",
    "        ustar = [ustar]\n",
    "        vstar = [vstar]\n",
    "        \n",
    "    for vs,us in zip(vstar,ustar):\n",
    "        # loop over each set of states\n",
    "        v = linspace(-3,5,1000)\n",
    "        s = sqrt(-(p(v)-p(vs))/(v-vs))\n",
    "        uplus = us + s*(v-vs)\n",
    "        uminus = us - s*(v-vs)\n",
    "        plot(v,uplus,'r')\n",
    "        plot(v,uminus,'b')\n",
    "        plot(vs,us,'ko')\n",
    "    legend(['1-waves','2-waves'], loc='lower left');"
   ]
  },
  {
   "cell_type": "markdown",
   "metadata": {},
   "source": [
    "### Problem 1(d)\n",
    "\n",
    "Plot a single set of Hugoniot loci:"
   ]
  },
  {
   "cell_type": "code",
   "execution_count": null,
   "metadata": {
    "collapsed": false
   },
   "outputs": [],
   "source": [
    "hugoniot_loci(1., 1.)"
   ]
  },
  {
   "cell_type": "markdown",
   "metadata": {},
   "source": [
    "### Problem 1(e)"
   ]
  },
  {
   "cell_type": "code",
   "execution_count": null,
   "metadata": {
    "collapsed": false
   },
   "outputs": [],
   "source": [
    "matplotlib.rc('text', usetex = True)  # to allow subscripts in annotations"
   ]
  },
  {
   "cell_type": "markdown",
   "metadata": {},
   "source": [
    "##  Compute the all-shock Riemann solution\n",
    "\n",
    "We do this by solving a nonlinear scalar equation $g(v)=0$ for the root $v_m$ that is the desired middle state.\n",
    "\n",
    "The function $g(v)$ is defined from the condition that the middle state $q_m$ should be connected to $q_\\ell$ by a 1-wave and to $q_r$ by a 2-wave, so we want:\n",
    "\n",
    "$$\n",
    "u_m  = u_\\ell + \\sqrt{-\\left(\\frac{p(v_m)-p(v_\\ell)}{v_m-v_\\ell}\\right)}~(v_m-v_\\ell)\n",
    "\\equiv\\phi_1(v_m) \n",
    "$$\n",
    "\n",
    "and simultaneously,\n",
    "\n",
    "$$\n",
    "u_m  = u_r - \\sqrt{-\\left(\\frac{p(v_m)-p(v_r)}{v_m-v_r}\\right)}~(v_m-v_r)\n",
    "\\equiv\\phi_2(v_m) \n",
    "$$\n",
    "\n",
    "So we set $g(v) = \\phi_1(v) - \\phi_2(v)$.  \n",
    "\n",
    "Note that the function `g` defined here also takes the left and right states as arguments."
   ]
  },
  {
   "cell_type": "code",
   "execution_count": 16,
   "metadata": {
    "collapsed": false
   },
   "outputs": [],
   "source": [
    "def g(vm,vl,ul,vr,ur):\n",
    "    s = sqrt(-(p(vl)-p(vm))/(vl-vm))\n",
    "    phi1 = ul + s*(vm-vl)\n",
    "    s = sqrt(-(p(vr)-p(vm))/(vr-vm))\n",
    "    phi2 = ur - s*(vm-vr)\n",
    "    return phi1 - phi2"
   ]
  },
  {
   "cell_type": "markdown",
   "metadata": {},
   "source": [
    "Solve using the `fsolve` function previously imported from `scipy.optimize`.  See the [documentation](https://docs.scipy.org/doc/scipy-0.14.0/reference/generated/scipy.optimize.fsolve.html).\n",
    "\n",
    "Based on the plot above, we use `x0 = 3` as an initial guess for `vm`."
   ]
  },
  {
   "cell_type": "code",
   "execution_count": 17,
   "metadata": {
    "collapsed": false
   },
   "outputs": [
    {
     "name": "stdout",
     "output_type": "stream",
     "text": [
      "Two-shock solution: vm = 3.19779, um = 7.91551\n"
     ]
    }
   ],
   "source": [
    "fsolution = fsolve(g, x0=3, args=(vl,ul,vr,ur))\n",
    "vm = fsolution[0]\n",
    "s = sqrt(-(p(vl)-p(vm))/(vl-vm))\n",
    "um = ul + s*(vm-vl)\n",
    "print('Two-shock solution: vm = %g, um = %g' %(vm,um))"
   ]
  },
  {
   "cell_type": "code",
   "execution_count": 18,
   "metadata": {
    "collapsed": false
   },
   "outputs": [
    {
     "data": {
      "image/png": "[encoded data removed]",
      "text/plain": [
       "<matplotlib.figure.Figure at 0x836fb00>"
      ]
     },
     "metadata": {},
     "output_type": "display_data"
    }
   ],
   "source": [
    "hugoniot_loci([vl,vr], [ul,ur])\n",
    "\n",
    "text(vl+0.2, ul, '$q_\\ell$', fontsize=20)\n",
    "text(vr+0.2, ur, '$q_r$', fontsize=20)\n",
    "\n",
    "plot([vm],[um],'ko')\n",
    "text(vm+0.2, um, '$q_m$', fontsize=20);"
   ]
  },
  {
   "cell_type": "markdown",
   "metadata": {},
   "source": [
    "### Problem 1(g)\n",
    "\n",
    "Shade the region where the right state $q_r$ must lie in order for the two-shock Riemann solution to satisfy the entropy condition.\n",
    "\n",
    "Note that the characteristic speed $\\lambda^1 = -e^v$ is a decreasing function of $v$, so $v$ must increase from $q_\\ell$ to $q_m$.  And since $\\lambda^2 = +e^v$ is an increasing function of $v$, we must also have $v$ decreasing from $q_m$ to $q_r$.  This means $q_r$ must be in the region shown below."
   ]
  },
  {
   "cell_type": "code",
   "execution_count": 19,
   "metadata": {
    "collapsed": false
   },
   "outputs": [
    {
     "data": {
      "image/png": "[encoded data removed]",
      "text/plain": [
       "<matplotlib.figure.Figure at 0x7b79b70>"
      ]
     },
     "metadata": {},
     "output_type": "display_data"
    }
   ],
   "source": [
    "hugoniot_loci(1,1)\n",
    "text(vl+0.2, ul, '$q_\\ell$', fontsize=20)\n",
    "\n",
    "for v in linspace(-3,5,40):\n",
    "    s = sqrt(-(p(v)-p(vl))/(v-vl))\n",
    "    uplus = ul + s*(v-vl)\n",
    "    uminus = ul - s*(v-vl)\n",
    "    umin = max(uplus, uminus)\n",
    "    plot([v,v],[umin,30],'g-')"
   ]
  },
  {
   "cell_type": "code",
   "execution_count": null,
   "metadata": {
    "collapsed": false
   },
   "outputs": [],
   "source": []
  }
 ],
 "metadata": {
  "anaconda-cloud": {},
  "kernelspec": {
   "display_name": "Python [Root]",
   "language": "python",
   "name": "Python [Root]"
  },
  "language_info": {
   "codemirror_mode": {
    "name": "ipython",
    "version": 3
   },
   "file_extension": ".py",
   "mimetype": "text/x-python",
   "name": "python",
   "nbconvert_exporter": "python",
   "pygments_lexer": "ipython3",
   "version": "3.5.1"
  }
 },
 "nbformat": 4,
 "nbformat_minor": 1
}
