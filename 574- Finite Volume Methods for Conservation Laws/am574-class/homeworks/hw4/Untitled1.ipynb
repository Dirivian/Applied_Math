{
 "cells": [
  {
   "cell_type": "code",
   "execution_count": 1,
   "metadata": {
    "collapsed": true
   },
   "outputs": [],
   "source": [
    "%matplotlib inline"
   ]
  },
  {
   "cell_type": "code",
   "execution_count": 2,
   "metadata": {
    "collapsed": true
   },
   "outputs": [],
   "source": [
    "from pylab import *"
   ]
  },
  {
   "cell_type": "code",
   "execution_count": 3,
   "metadata": {
    "collapsed": true
   },
   "outputs": [],
   "source": [
    "p = lambda v: -exp(v)    "
   ]
  },
  {
   "cell_type": "code",
   "execution_count": 4,
   "metadata": {
    "collapsed": true
   },
   "outputs": [],
   "source": [
    "def hugoniot_loci(vstar,ustar):\n",
    "    \"\"\"\n",
    "    ustar and vstar are a single state or a list of states.\n",
    "    \"\"\"\n",
    "    if type(ustar) in [float,int]:\n",
    "        # turn scalars into lists with one element:\n",
    "        ustar = [ustar]\n",
    "        vstar = [vstar]\n",
    "        \n",
    "    for vs,us in zip(vstar,ustar):\n",
    "        # loop over each set of states\n",
    "        v = linspace(-3,5,1000)\n",
    "        s = sqrt(-(p(v)-p(vs))/(v-vs))\n",
    "        uplus = us + s*(v-vs)\n",
    "        uminus = us - s*(v-vs)\n",
    "        plot(v,uplus,'r')\n",
    "        plot(v,uminus,'b')\n",
    "        plot(vs,us,'ko')\n",
    "    legend(['1-waves','2-waves'], loc='lower left');"
   ]
  },
  {
   "cell_type": "code",
   "execution_count": 5,
   "metadata": {
    "collapsed": false
   },
   "outputs": [
    {
     "data": {
      "image/png": "[encoded data removed]",
      "text/plain": [
       "<matplotlib.figure.Figure at 0x729de48>"
      ]
     },
     "metadata": {},
     "output_type": "display_data"
    }
   ],
   "source": [
    "vl,ul = 1,1\n",
    "vr,ur= 4,3\n",
    "hugoniot_loci([vl,vr], [ul,ur])"
   ]
  },
  {
   "cell_type": "code",
   "execution_count": null,
   "metadata": {
    "collapsed": true
   },
   "outputs": [],
   "source": []
  }
 ],
 "metadata": {
  "kernelspec": {
   "display_name": "Python [Root]",
   "language": "python",
   "name": "Python [Root]"
  },
  "language_info": {
   "codemirror_mode": {
    "name": "ipython",
    "version": 3
   },
   "file_extension": ".py",
   "mimetype": "text/x-python",
   "name": "python",
   "nbconvert_exporter": "python",
   "pygments_lexer": "ipython3",
   "version": "3.5.1"
  }
 },
 "nbformat": 4,
 "nbformat_minor": 0
}
