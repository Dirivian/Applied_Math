{
 "cells": [
  {
   "cell_type": "markdown",
   "metadata": {},
   "source": [
    "# Advection algorithms\n",
    "\n",
    "Illustrate solution of the advection equation $q_t + uq_x = 0$ where $u$ is constant.\n",
    "\n",
    "Shows the upwind method and Lax-Wendroff on a square pulse.  Feel free to try other initial data!"
   ]
  },
  {
   "cell_type": "code",
   "execution_count": 29,
   "metadata": {
    "collapsed": false
   },
   "outputs": [
    {
     "name": "stdout",
     "output_type": "stream",
     "text": [
      "Populating the interactive namespace from numpy and matplotlib\n"
     ]
    }
   ],
   "source": [
    "%pylab inline"
   ]
  },
  {
   "cell_type": "code",
   "execution_count": 30,
   "metadata": {
    "collapsed": false
   },
   "outputs": [],
   "source": [
    "from __future__ import print_function"
   ]
  },
  {
   "cell_type": "markdown",
   "metadata": {},
   "source": [
    "## Desired true solution\n",
    "\n",
    "Define the true solution as a function of $(x,t)$.  It will depend on the advection velocity `u`.  \n",
    "Note how the periodic boundary conditions are imposed.\n",
    "\n",
    "Evaluating this function at $t=0$ will give the initial conditions below."
   ]
  },
  {
   "cell_type": "code",
   "execution_count": 31,
   "metadata": {
    "collapsed": false
   },
   "outputs": [],
   "source": [
    "def qtrue(x,t,u):\n",
    "    x0 = x - u*t   # trace back characteristic to time 0\n",
    "    x0 = mod(x0, 1.)  # use periodic boundary conditions to map to [0,1]\n",
    "    q = where(abs(x0-0.2) < 0.1,  3., 2.)   # piecewise constant with values 2 and 3\n",
    "    return q"
   ]
  },
  {
   "cell_type": "markdown",
   "metadata": {},
   "source": [
    "### Computational domain and grid:"
   ]
  },
  {
   "cell_type": "code",
   "execution_count": 32,
   "metadata": {
    "collapsed": false
   },
   "outputs": [],
   "source": [
    "xlower = 0.\n",
    "xupper = 1.\n",
    "mx = 30\n",
    "dx = float(xupper-xlower)/mx\n",
    "\n",
    "# finite volume cell centers:\n",
    "x = linspace(xlower+0.5*dx, xupper-0.5*dx, mx)"
   ]
  },
  {
   "cell_type": "markdown",
   "metadata": {},
   "source": [
    "### Initial conditions on grid:"
   ]
  },
  {
   "cell_type": "code",
   "execution_count": 33,
   "metadata": {
    "collapsed": false
   },
   "outputs": [
    {
     "data": {
      "image/png": "[encoded data removed]",
      "text/plain": [
       "<matplotlib.figure.Figure at 0x58beeb8>"
      ]
     },
     "metadata": {},
     "output_type": "display_data"
    }
   ],
   "source": [
    "u = 1.\n",
    "q0 = qtrue(x,0.,u)\n",
    "\n",
    "xfine = linspace(0,1,5000)   # fine grid for plotting true solution\n",
    "plot(xfine, qtrue(xfine,0.,u),'r-')\n",
    "title('Initial data')\n",
    "\n",
    "plot(x,q0,'bo')\n",
    "ylim(1,4);"
   ]
  },
  {
   "cell_type": "markdown",
   "metadata": {},
   "source": [
    "### Set time step and number of steps\n",
    "\n",
    "If the Courant number `cfl` is bigger than 1, you can expect instability!"
   ]
  },
  {
   "cell_type": "code",
   "execution_count": 34,
   "metadata": {
    "collapsed": false
   },
   "outputs": [
    {
     "name": "stdout",
     "output_type": "stream",
     "text": [
      "dx = 0.0333, dt = 0.0208, Courant number is cfl =  0.62\n"
     ]
    }
   ],
   "source": [
    "tfinal = 0.5\n",
    "nsteps = 24\n",
    "dt = float(tfinal)/nsteps\n",
    "udtdx = u*dt/dx\n",
    "cfl = abs(udtdx)\n",
    "print(\"dx = %6.4f, dt = %6.4f, Courant number is cfl = %5.2f\" % (dx,dt,cfl))"
   ]
  },
  {
   "cell_type": "markdown",
   "metadata": {},
   "source": [
    "### Time-stepping loop\n",
    "\n",
    "First extend the initial data to an array that includes 2 ghost cells on either side.  Only one is needed for upwind or Lax-Wendroff, but 2 would be needed if a limiter is added."
   ]
  },
  {
   "cell_type": "code",
   "execution_count": 35,
   "metadata": {
    "collapsed": false
   },
   "outputs": [],
   "source": [
    "# extend to include 2 ghost cells on each side:\n",
    "qn_ext = hstack([0., 0., q0, 0., 0.])\n",
    "i1 = 2  # index of first interior cell\n",
    "imx = mx+1  # index of last interior cell\n",
    "\n",
    "for n in range(nsteps):\n",
    "    \n",
    "    # fill ghost cells for periodic BCs:\n",
    "    qn_ext[i1-2] = qn_ext[imx-1]\n",
    "    qn_ext[i1-1] = qn_ext[imx]\n",
    "    qn_ext[imx+1] = qn_ext[i1]\n",
    "    qn_ext[imx+2] = qn_ext[i1+1]\n",
    "    \n",
    "    qnp_ext = qn_ext.copy()  # make a copy, not a new pointer to old array\n",
    "    \n",
    "    for i in range(i1,imx+1):\n",
    "        if u > 0:\n",
    "            qnp_ext[i] = qn_ext[i] - udtdx * (qn_ext[i]-qn_ext[i-1])\n",
    "        else:\n",
    "            qnp_ext[i] = qn_ext[i] - udtdx * (qn_ext[i+1]-qn_ext[i])\n",
    "    \n",
    "    qn_ext = qnp_ext\n",
    "    \n",
    "    "
   ]
  },
  {
   "cell_type": "markdown",
   "metadata": {},
   "source": [
    "### Plot the solution at the final time\n",
    "\n",
    "Extract the interior points and plot, along with the true solution."
   ]
  },
  {
   "cell_type": "code",
   "execution_count": 36,
   "metadata": {
    "collapsed": false
   },
   "outputs": [
    {
     "data": {
      "image/png": "[encoded data removed]",
      "text/plain": [
       "<matplotlib.figure.Figure at 0x7765fd0>"
      ]
     },
     "metadata": {},
     "output_type": "display_data"
    }
   ],
   "source": [
    "qn = qn_ext[i1:imx+1]\n",
    "plot(x,qn,'bo-')\n",
    "ylim(1,4)\n",
    "\n",
    "plot(xfine, qtrue(xfine,tfinal,u),'r-')\n",
    "title('Time t = %g' % tfinal);"
   ]
  },
  {
   "cell_type": "markdown",
   "metadata": {
    "collapsed": false
   },
   "source": [
    "### Try the following:\n",
    "\n",
    "- Check that this code works if `u` is negative and/or if the time interval is longer, so that the periodic boundary conditions play a role.\n",
    "- With `tfinal = 0.5`, try the following and make some observations about the results in each case:\n",
    "  - `nsteps = 25` (why is the result so good?)\n",
    "  - `nsteps = 24` (why is the result so bad?)"
   ]
  },
  {
   "cell_type": "markdown",
   "metadata": {},
   "source": [
    "## Lax-Wendroff\n",
    "\n",
    "The cell below repeats several cells from above, with only a change to the way `qnp_ext` is computed in each time step to implement the Lax-Wendroff method\n",
    "$$Q_i^{n+1} = Q_i^n - \\frac{u \\Delta t}{2\\Delta x}(Q_{i+1}^n-Q_{i-1}^n) + \\frac 1 2 \\left(\\frac{u \\Delta t}{\\Delta x}\\right)^2 (Q_{i+1}^n - 2Q_i^n + Q_{i-1}^n)$$"
   ]
  },
  {
   "cell_type": "code",
   "execution_count": 37,
   "metadata": {
    "collapsed": false
   },
   "outputs": [
    {
     "name": "stdout",
     "output_type": "stream",
     "text": [
      "dx = 0.0333, dt = 0.0167, Courant number is cfl =  0.50\n"
     ]
    },
    {
     "data": {
      "image/png": "[encoded data removed]",
      "text/plain": [
       "<matplotlib.figure.Figure at 0x5b6d630>"
      ]
     },
     "metadata": {},
     "output_type": "display_data"
    }
   ],
   "source": [
    "tfinal = 0.5\n",
    "nsteps = 30\n",
    "dt = float(tfinal)/nsteps\n",
    "udtdx = u*dt/dx\n",
    "cfl = abs(udtdx)\n",
    "print(\"dx = %6.4f, dt = %6.4f, Courant number is cfl = %5.2f\" % (dx,dt,cfl))\n",
    "\n",
    "# extend to include 2 ghost cells on each side:\n",
    "qn_ext = hstack([0., 0., q0, 0., 0.])\n",
    "i1 = 2  # index of first interior cell\n",
    "imx = mx+1  # index of last interior cell\n",
    "\n",
    "# Time-stepping loop:\n",
    "\n",
    "for n in range(nsteps):\n",
    "    \n",
    "    # fill ghost cells for periodic BCs:\n",
    "    qn_ext[i1-2] = qn_ext[imx-1]\n",
    "    qn_ext[i1-1] = qn_ext[imx]\n",
    "    qn_ext[imx+1] = qn_ext[i1]\n",
    "    qn_ext[imx+2] = qn_ext[i1+1]\n",
    "    \n",
    "    qnp_ext = qn_ext.copy()  # make a copy, not a new pointer to old array\n",
    "    \n",
    "    # Loop over interior points only\n",
    "    for i in range(i1,imx+1):\n",
    "        qnp_ext[i] = qn_ext[i] - 0.5*udtdx*(qn_ext[i+1]-qn_ext[i-1]) + \\\n",
    "                0.5*udtdx**2 * (qn_ext[i+1] - 2*qn_ext[i] + qn_ext[i-1])\n",
    "    \n",
    "    qn_ext = qnp_ext\n",
    "    \n",
    "qn = qn_ext[i1:imx+1]\n",
    "plot(xfine, qtrue(xfine,tfinal,u),'r-')\n",
    "title('Time t = %g' % tfinal)\n",
    "\n",
    "plot(x,qn,'bo-')\n",
    "ylim(1,4);"
   ]
  },
  {
   "cell_type": "markdown",
   "metadata": {},
   "source": [
    "### Try the following:\n",
    "\n",
    "- Again you might try 25 or 24 time steps.\n",
    "\n",
    "- Go back to the beginning and increase `mx` to see how all the plots change on a finer grid (e.g. `mx = 400`).  You will also have to increase `nsteps` or the methods will be unstable!\n",
    "\n"
   ]
  },
  {
   "cell_type": "markdown",
   "metadata": {},
   "source": [
    "### Next step:\n",
    "\n",
    "The notebook [Advection_Examples2.ipynb](Advection_Examples2.ipynb) has a version of the upwind code that also creates a set of figures t"
   ]
  }
 ],
 "metadata": {
  "kernelspec": {
   "display_name": "Python [Root]",
   "language": "python",
   "name": "Python [Root]"
  },
  "language_info": {
   "codemirror_mode": {
    "name": "ipython",
    "version": 3
   },
   "file_extension": ".py",
   "mimetype": "text/x-python",
   "name": "python",
   "nbconvert_exporter": "python",
   "pygments_lexer": "ipython3",
   "version": "3.5.1"
  }
 },
 "nbformat": 4,
 "nbformat_minor": 1
}
