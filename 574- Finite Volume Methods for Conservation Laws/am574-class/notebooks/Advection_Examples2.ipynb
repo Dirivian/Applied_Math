{
 "cells": [
  {
   "cell_type": "markdown",
   "metadata": {},
   "source": [
    "# Advection algorithms\n",
    "\n",
    "Illustrate solution of the advection equation $q_t + uq_x = 0$ where $u$ is constant.\n",
    "Shows the upwind method on a square pulse.  \n",
    "\n",
    "This code is condensed into a single function.  For more description of what is being done in this fuction you might want to first look at [Advection_Examples1.ipynb](Advection_Examples1.ipynb)\n",
    "\n",
    "Figures are plotted during the time stepping and accumulated.  They can then be viewed as an animation using [ipywidgets](https://github.com/ipython/ipywidgets)."
   ]
  },
  {
   "cell_type": "code",
   "execution_count": 28,
   "metadata": {
    "collapsed": false
   },
   "outputs": [
    {
     "name": "stdout",
     "output_type": "stream",
     "text": [
      "Populating the interactive namespace from numpy and matplotlib\n"
     ]
    }
   ],
   "source": [
    "%pylab inline"
   ]
  },
  {
   "cell_type": "code",
   "execution_count": 29,
   "metadata": {
    "collapsed": false
   },
   "outputs": [],
   "source": [
    "from __future__ import print_function"
   ]
  },
  {
   "cell_type": "code",
   "execution_count": 30,
   "metadata": {
    "collapsed": false
   },
   "outputs": [],
   "source": [
    "import ipywidgets"
   ]
  },
  {
   "cell_type": "markdown",
   "metadata": {},
   "source": [
    "## Desired true solution\n",
    "\n",
    "Define the true solution as a function of $(x,t)$.  It will depend on the advection velocity `u`.  \n",
    "Note how the periodic boundary conditions are imposed.\n",
    "\n",
    "Evaluating this function at $t=0$ will give the initial conditions below."
   ]
  },
  {
   "cell_type": "code",
   "execution_count": 31,
   "metadata": {
    "collapsed": false
   },
   "outputs": [],
   "source": [
    "def qtrue(x,t,u):\n",
    "    x0 = x - u*t   # trace back characteristic to time 0\n",
    "    x0 = mod(x0, 1.)  # use periodic boundary conditions to map to [0,1]\n",
    "    q = where(abs(x0-0.2) < 0.1,  3., 2.)   # piecewise constant with values 2 and 3\n",
    "    return q"
   ]
  },
  {
   "cell_type": "markdown",
   "metadata": {},
   "source": [
    "### Define function to test one case\n",
    "\n",
    "This function also make a plot every `nplot` time steps and accumulate these in `figs`, which is returned from the function call."
   ]
  },
  {
   "cell_type": "code",
   "execution_count": 32,
   "metadata": {
    "collapsed": false
   },
   "outputs": [],
   "source": [
    "def upwind(x,tfinal,nsteps,u,qtrue,nplot):\n",
    "    \n",
    "    # set initial data:\n",
    "    q0 = qtrue(x,0.,u)\n",
    "\n",
    "    # plot initial data:\n",
    "    fig = figure()\n",
    "    xfine = linspace(0,1,5000)   # fine grid for plotting true solution\n",
    "    plot(xfine, qtrue(xfine,0.,u),'r-')\n",
    "    title('Initial data')\n",
    "    plot(x,q0,'bo')\n",
    "    ylim(1,4)\n",
    "\n",
    "    # Start accumulating figures\n",
    "    # Will add more figures during time stepping\n",
    "    figs = [fig]  \n",
    "    close(fig)  # so it won't appear yet\n",
    "\n",
    "\n",
    "    # extend to include 2 ghost cells on each side:\n",
    "    qn_ext = hstack([0., 0., q0, 0., 0.])\n",
    "    i1 = 2  # index of first interior cell\n",
    "    imx = mx+1  # index of last interior cell\n",
    "\n",
    "    for n in range(nsteps):\n",
    "\n",
    "        # fill ghost cells for periodic BCs:\n",
    "        qn_ext[i1-2] = qn_ext[imx-1]\n",
    "        qn_ext[i1-1] = qn_ext[imx]\n",
    "        qn_ext[imx+1] = qn_ext[i1]\n",
    "        qn_ext[imx+2] = qn_ext[i1+1]\n",
    "\n",
    "        qnp_ext = qn_ext.copy()  # make a copy, not a new pointer to old array\n",
    "\n",
    "        for i in range(i1,imx+1):\n",
    "            if u > 0:\n",
    "                qnp_ext[i] = qn_ext[i] - udtdx * (qn_ext[i]-qn_ext[i-1])\n",
    "            else:\n",
    "                qnp_ext[i] = qn_ext[i] - udtdx * (qn_ext[i+1]-qn_ext[i])\n",
    "\n",
    "        qn_ext = qnp_ext\n",
    "\n",
    "        if mod(n,nplot) == 0:\n",
    "            fig = figure()\n",
    "            qn = qn_ext[i1:imx+1]\n",
    "            plot(x,qn,'bo-')\n",
    "            ylim(1,4)\n",
    "            tn = n*dt\n",
    "            plot(xfine, qtrue(xfine,tn,u),'r-')\n",
    "            title('Time t = %g' % tfinal)\n",
    "            figs.append(fig)\n",
    "            close(fig)\n",
    "\n",
    "    print(\"Took %i time steps and produced %i figures\" % (nsteps,len(figs)))\n",
    "    return figs"
   ]
  },
  {
   "cell_type": "code",
   "execution_count": 33,
   "metadata": {
    "collapsed": false
   },
   "outputs": [
    {
     "name": "stdout",
     "output_type": "stream",
     "text": [
      "dx = 0.0200, dt = 0.0133, Courant number is cfl =  0.67\n",
      "Took 150 time steps and produced 76 figures\n"
     ]
    }
   ],
   "source": [
    "xlower = 0.\n",
    "xupper = 1.\n",
    "mx = 50\n",
    "dx = float(xupper-xlower)/mx\n",
    "\n",
    "# finite volume cell centers:\n",
    "x = linspace(xlower+0.5*dx, xupper-0.5*dx, mx)\n",
    "u = 1.\n",
    "\n",
    "tfinal = 2.0\n",
    "nsteps = 150\n",
    "dt = float(tfinal)/nsteps\n",
    "udtdx = u*dt/dx\n",
    "cfl = abs(udtdx)\n",
    "print(\"dx = %6.4f, dt = %6.4f, Courant number is cfl = %5.2f\" % (dx,dt,cfl))\n",
    "\n",
    "# Run the upwind method, which returns the set of figures, \n",
    "# plotting every nplot steps:\n",
    "nplot = 2\n",
    "figs = upwind(x,tfinal,nsteps,u,qtrue,nplot)"
   ]
  },
  {
   "cell_type": "markdown",
   "metadata": {},
   "source": [
    "### View the final figure returned:"
   ]
  },
  {
   "cell_type": "code",
   "execution_count": 34,
   "metadata": {
    "collapsed": false
   },
   "outputs": [
    {
     "data": {
      "image/png": "[encoded data removed]",
      "text/plain": [
       "<matplotlib.figure.Figure at 0xd92a128>"
      ]
     },
     "metadata": {},
     "output_type": "display_data"
    }
   ],
   "source": [
    "display(figs[-1])  # index -1 gives last element of array"
   ]
  },
  {
   "cell_type": "markdown",
   "metadata": {},
   "source": [
    "### Make an animation using a widget:"
   ]
  },
  {
   "cell_type": "code",
   "execution_count": 35,
   "metadata": {
    "collapsed": false
   },
   "outputs": [
    {
     "data": {
      "image/png": "[encoded data removed]",
      "text/plain": [
       "<matplotlib.figure.Figure at 0x91848d0>"
      ]
     },
     "metadata": {},
     "output_type": "display_data"
    }
   ],
   "source": [
    "def display_frame(frameno): \n",
    "    display(figs[frameno])\n",
    "    \n",
    "widget = ipywidgets.IntSlider(min=0,max=len(figs)-1, value=0)\n",
    "ipywidgets.interact(display_frame, frameno=widget)"
   ]
  },
  {
   "cell_type": "markdown",
   "metadata": {},
   "source": [
    "### Try another case\n",
    "\n",
    "Now we can more easily change the input parameters to re-run.  For example, increase the number of points but take the Courant number slightly larger than 1..."
   ]
  },
  {
   "cell_type": "code",
   "execution_count": 36,
   "metadata": {
    "collapsed": false
   },
   "outputs": [
    {
     "data": {
      "image/png": "[encoded data removed]",
      "text/plain": [
       "<matplotlib.figure.Figure at 0xf216588>"
      ]
     },
     "metadata": {},
     "output_type": "display_data"
    },
    {
     "data": {
      "text/plain": [
       "<function __main__.display_frame>"
      ]
     },
     "execution_count": 36,
     "metadata": {},
     "output_type": "execute_result"
    }
   ],
   "source": [
    "xlower = 0.\n",
    "xupper = 1.\n",
    "mx = 100\n",
    "dx = float(xupper-xlower)/mx\n",
    "\n",
    "# finite volume cell centers:\n",
    "x = linspace(xlower+0.5*dx, xupper-0.5*dx, mx)\n",
    "u = 1.\n",
    "\n",
    "tfinal = 0.5\n",
    "nsteps = 49\n",
    "dt = float(tfinal)/nsteps\n",
    "udtdx = u*dt/dx\n",
    "cfl = abs(udtdx)\n",
    "print(\"dx = %6.4f, dt = %6.4f, Courant number is cfl = %5.2f\" % (dx,dt,cfl))\n",
    "\n",
    "# Run the upwind method, which returns the set of figures, \n",
    "# plotting every nplot steps:\n",
    "\n",
    "# Note: Call this output figs2 so it doesn't mess up interact above!\n",
    "\n",
    "nplot = 1\n",
    "figs2 = upwind(x,tfinal,nsteps,u,qtrue,nplot)\n",
    "\n",
    "def display_frame(frameno): \n",
    "    display(figs2[frameno])\n",
    "    \n",
    "widget = ipywidgets.IntSlider(min=0,max=len(figs)-1, value=0)\n",
    "ipywidgets.interact(display_frame, frameno=widget)"
   ]
  },
  {
   "cell_type": "code",
   "execution_count": null,
   "metadata": {
    "collapsed": false
   },
   "outputs": [],
   "source": []
  }
 ],
 "metadata": {
  "anaconda-cloud": {},
  "kernelspec": {
   "display_name": "Python [Root]",
   "language": "python",
   "name": "Python [Root]"
  },
  "language_info": {
   "codemirror_mode": {
    "name": "ipython",
    "version": 3
   },
   "file_extension": ".py",
   "mimetype": "text/x-python",
   "name": "python",
   "nbconvert_exporter": "python",
   "pygments_lexer": "ipython3",
   "version": "3.5.1"
  }
 },
 "nbformat": 4,
 "nbformat_minor": 1
}
