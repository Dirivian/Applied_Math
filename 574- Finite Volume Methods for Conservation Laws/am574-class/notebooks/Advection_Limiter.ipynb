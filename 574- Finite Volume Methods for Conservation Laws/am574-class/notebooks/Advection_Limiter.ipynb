{
 "cells": [
  {
   "cell_type": "markdown",
   "metadata": {},
   "source": [
    "# Advection with wave limiters"
   ]
  },
  {
   "cell_type": "code",
   "execution_count": 177,
   "metadata": {
    "collapsed": false
   },
   "outputs": [
    {
     "name": "stdout",
     "output_type": "stream",
     "text": [
      "Populating the interactive namespace from numpy and matplotlib\n"
     ]
    }
   ],
   "source": [
    "%pylab inline"
   ]
  },
  {
   "cell_type": "code",
   "execution_count": 178,
   "metadata": {
    "collapsed": false
   },
   "outputs": [],
   "source": [
    "import ipywidgets\n",
    "from __future__ import print_function #for Python2"
   ]
  },
  {
   "cell_type": "markdown",
   "metadata": {},
   "source": [
    "## True Solution"
   ]
  },
  {
   "cell_type": "code",
   "execution_count": 179,
   "metadata": {
    "collapsed": true
   },
   "outputs": [],
   "source": [
    "def qtrue(x,t,u):\n",
    "    x0 = x - u*t   # trace back characteristic to time 0\n",
    "    x0 = mod(x0, 1.)  # use periodic boundary conditions to map to [0,1]\n",
    "    q = where(abs(x0-0.2) < 0.1,  3., 2.)   # piecewise constant with values 2 and 3\n",
    "    return q"
   ]
  },
  {
   "cell_type": "markdown",
   "metadata": {},
   "source": [
    "## Wave Limiters"
   ]
  },
  {
   "cell_type": "code",
   "execution_count": 180,
   "metadata": {
    "collapsed": false
   },
   "outputs": [],
   "source": [
    "def phi_minmod(theta):\n",
    "    return(max(0.,min(theta,1)))"
   ]
  },
  {
   "cell_type": "code",
   "execution_count": 181,
   "metadata": {
    "collapsed": true
   },
   "outputs": [],
   "source": [
    "def wave_limiter(x,tfinal,nsteps,u,qtrue,nplot,phi, ylim1, ylim2):\n",
    "    \n",
    "    # set initial data:\n",
    "    q0 = qtrue(x,0.,u)\n",
    "\n",
    "    # plot initial data:\n",
    "    fig = figure()\n",
    "    xfine = linspace(0,1,5000)   # fine grid for plotting true solution\n",
    "    plot(xfine, qtrue(xfine,0.,u),'r-')\n",
    "    title('Initial data')\n",
    "    plot(x,q0,'bo')\n",
    "    ylim(ylim1, ylim2)\n",
    "\n",
    "    # Start accumulating figures\n",
    "    # Will add more figures during time stepping\n",
    "    figs = [fig]  \n",
    "    close(fig)  # so it won't appear yet\n",
    "\n",
    "\n",
    "    # extend to include 2 ghost cells on each side:\n",
    "    qn_ext = hstack([0., 0., q0, 0., 0.])\n",
    "    i1 = 2  # index of first interior cell\n",
    "    imx = mx+1  # index of last interior cell\n",
    "\n",
    "    for n in range(nsteps):\n",
    "\n",
    "        # fill ghost cells for periodic BCs:\n",
    "        qn_ext[i1-2] = qn_ext[imx-1]\n",
    "        qn_ext[i1-1] = qn_ext[imx]\n",
    "        qn_ext[imx+1] = qn_ext[i1]\n",
    "        qn_ext[imx+2] = qn_ext[i1+1]\n",
    "\n",
    "        qnp_ext = qn_ext.copy()  # make a copy, not a new pointer to old array\n",
    "        ucomp = 0.5*abs(u)*(1- abs(u)*dt/dx)\n",
    "\n",
    "        for i in range(i1,imx+1):\n",
    "            Wm= qn_ext[i]-qn_ext[i-1]\n",
    "            Wp= qn_ext[i+1]-qn_ext[i]\n",
    "            \n",
    "            if u > 0:\n",
    "                t1= qn_ext[i-1]-qn_ext[i-2]\n",
    "                t2 =qn_ext[i]-qn_ext[i-1]\n",
    "                if t2 ==0:\n",
    "                    if t1==0:\n",
    "                        thetam=0\n",
    "                    else:\n",
    "                        thetam =Inf\n",
    "                else:\n",
    "                    thetam= t1/t2\n",
    "                t3=qn_ext[i]-qn_ext[i-1] \n",
    "                t4= qn_ext[i+1]-qn_ext[i]\n",
    "                if t4 ==0:\n",
    "                    if t3==0:\n",
    "                        thetap=0\n",
    "                    else:\n",
    "                        thetap =Inf\n",
    "                else:\n",
    "                    thetap=t3/t4\n",
    "                        \n",
    "                     \n",
    "                Ftildem = ucomp*(phi(thetam))*Wm\n",
    "                Ftildep = ucomp*(phi(thetap))*Wp\n",
    "                qnp_ext[i] = qn_ext[i] - udtdx*Wm-(dt/dx)*(Ftildep-Ftildem)\n",
    "            else:\n",
    "                t1= qn_ext[i+1]-qn_ext[i+2]\n",
    "                t2 =qn_ext[i]-qn_ext[i-1]\n",
    "                if t2 ==0:\n",
    "                    if t1==0:\n",
    "                        thetam=0\n",
    "                    else:\n",
    "                        thetam =Inf\n",
    "                else:\n",
    "                    thetam= t1/t2\n",
    "                t3=qn_ext[i+2]-qn_ext[i+1] \n",
    "                t4= qn_ext[i+1]-qn_ext[i]\n",
    "                if t4 ==0:\n",
    "                    if t3==0:\n",
    "                        thetap=0\n",
    "                    else:\n",
    "                        thetap =Inf\n",
    "                else:\n",
    "                    thetap=t3/t4\n",
    "                        \n",
    "                     \n",
    "                Ftildem = ucomp*(phi(thetam))*Wm\n",
    "                Ftildep = ucomp*(phi(thetap))*Wp\n",
    "                qnp_ext[i] = qn_ext[i] - dtdx * (u*Wm)-dtdx*(Ftildep-Ftildem)\n",
    "\n",
    "        qn_ext = qnp_ext\n",
    "\n",
    "        if mod(n,nplot) == 0:\n",
    "            fig = figure()\n",
    "            qn = qn_ext[i1:imx+1]\n",
    "            plot(x,qn,'bo-')\n",
    "            ylim(ylim1, ylim2)\n",
    "            tn = (n+1)*dt\n",
    "            plot(xfine, qtrue(xfine,tn,u),'r-')\n",
    "            title('Time t = %g' % tn)\n",
    "            figs.append(fig)\n",
    "            close(fig)\n",
    "\n",
    "    print(\"Took %i time steps and produced %i figures\" % (nsteps,len(figs)))\n",
    "    return figs"
   ]
  },
  {
   "cell_type": "code",
   "execution_count": 182,
   "metadata": {
    "collapsed": false
   },
   "outputs": [
    {
     "name": "stdout",
     "output_type": "stream",
     "text": [
      "dx = 0.0200, dt = 0.0133, Courant number is cfl =  0.67\n",
      "Took 150 time steps and produced 76 figures\n"
     ]
    }
   ],
   "source": [
    "xlower = 0.\n",
    "xupper = 1.\n",
    "mx = 50\n",
    "dx = float(xupper-xlower)/mx\n",
    "\n",
    "# finite volume cell centers:\n",
    "x = linspace(xlower+0.5*dx, xupper-0.5*dx, mx)\n",
    "u = 1.\n",
    "\n",
    "tfinal = 2.0\n",
    "nsteps = 150\n",
    "dt = float(tfinal)/nsteps\n",
    "udtdx = u*dt/dx\n",
    "cfl = abs(udtdx)\n",
    "print(\"dx = %6.4f, dt = %6.4f, Courant number is cfl = %5.2f\" % (dx,dt,cfl))\n",
    "\n",
    "# Run the upwind method, which returns the set of figures, \n",
    "# plotting every nplot steps:\n",
    "nplot = 2\n",
    "figs = wave_limiter(x,tfinal,nsteps,u,qtrue,nplot, phi_upwind, 1,4)"
   ]
  },
  {
   "cell_type": "markdown",
   "metadata": {},
   "source": [
    "## Results"
   ]
  },
  {
   "cell_type": "code",
   "execution_count": 183,
   "metadata": {
    "collapsed": false
   },
   "outputs": [
    {
     "data": {
      "image/png": "[encoded data removed]",
      "text/plain": [
       "<matplotlib.figure.Figure at 0xeb1a7f0>"
      ]
     },
     "metadata": {},
     "output_type": "display_data"
    }
   ],
   "source": [
    "def display_frame(frameno): \n",
    "    display(figs[frameno])\n",
    "    \n",
    "widget = ipywidgets.IntSlider(min=0,max=len(figs)-1, value=0)\n",
    "ipywidgets.interact(display_frame, frameno=widget)"
   ]
  },
  {
   "cell_type": "markdown",
   "metadata": {},
   "source": [
    "## Limiter functions"
   ]
  },
  {
   "cell_type": "code",
   "execution_count": 184,
   "metadata": {
    "collapsed": true
   },
   "outputs": [],
   "source": [
    "def phi_superbee(theta):\n",
    "    return(max(0.,min(2*theta,1),min(theta,2)))\n",
    "def phi_MC(theta):\n",
    "    return(max(0.,min(2*theta,(1+theta)/2,2)))\n",
    "def phi_upwind(theta):\n",
    "    return 0\n",
    "def phi_LW(theta):\n",
    "    return 1"
   ]
  },
  {
   "cell_type": "markdown",
   "metadata": {},
   "source": [
    "## Fig 6.2"
   ]
  },
  {
   "cell_type": "code",
   "execution_count": 185,
   "metadata": {
    "collapsed": true
   },
   "outputs": [],
   "source": [
    "def qtrue1(x,t,u):\n",
    "    x0 = x - u*t   # trace back characteristic to time 0\n",
    "    x0 = mod(x0, 1.)  # use periodic boundary conditions to map to [0,1]\n",
    "    q1 = where(abs(x0-0.7) < 0.1,  1., 0.)   \n",
    "    q2 = exp(-200*(x0 - 0.3)**2)\n",
    "    q=q1+q2\n",
    "    return q"
   ]
  },
  {
   "cell_type": "code",
   "execution_count": 186,
   "metadata": {
    "collapsed": false
   },
   "outputs": [
    {
     "name": "stdout",
     "output_type": "stream",
     "text": [
      "dx = 0.0200, dt = 0.0167, Courant number is cfl =  0.83\n"
     ]
    }
   ],
   "source": [
    "xlower = 0.\n",
    "xupper = 1.\n",
    "mx = 50\n",
    "dx = float(xupper-xlower)/mx\n",
    "\n",
    "# finite volume cell centers:\n",
    "x = linspace(xlower+0.5*dx, xupper-0.5*dx, mx)\n",
    "u = 1.\n",
    "\n",
    "tfinal = 5.0\n",
    "nsteps = 300\n",
    "dt = float(tfinal)/nsteps\n",
    "udtdx = u*dt/dx\n",
    "cfl = abs(udtdx)\n",
    "print(\"dx = %6.4f, dt = %6.4f, Courant number is cfl = %5.2f\" % (dx,dt,cfl))\n",
    "\n",
    "# Run the upwind method, which returns the set of figures, \n",
    "# plotting every nplot steps:\n",
    "nplot = 5"
   ]
  },
  {
   "cell_type": "markdown",
   "metadata": {},
   "source": [
    "minmod"
   ]
  },
  {
   "cell_type": "code",
   "execution_count": 188,
   "metadata": {
    "collapsed": false
   },
   "outputs": [
    {
     "data": {
      "image/png": "[encoded data removed]",
      "text/plain": [
       "<matplotlib.figure.Figure at 0xb1e8128>"
      ]
     },
     "metadata": {},
     "output_type": "display_data"
    }
   ],
   "source": [
    "figs = wave_limiter(x,tfinal,nsteps,u,qtrue1,nplot, phi_minmod,-0.5,1.5)\n",
    "widget = ipywidgets.IntSlider(min=0,max=len(figs)-1, value=0)\n",
    "ipywidgets.interact(display_frame, frameno=widget)"
   ]
  },
  {
   "cell_type": "markdown",
   "metadata": {},
   "source": [
    "MC"
   ]
  },
  {
   "cell_type": "code",
   "execution_count": 189,
   "metadata": {
    "collapsed": false
   },
   "outputs": [
    {
     "name": "stdout",
     "output_type": "stream",
     "text": [
      "Took 300 time steps and produced 61 figures\n"
     ]
    }
   ],
   "source": [
    "figs = wave_limiter(x,tfinal,nsteps,u,qtrue1,nplot, phi_MC,-0.5,1.5)"
   ]
  },
  {
   "cell_type": "code",
   "execution_count": 190,
   "metadata": {
    "collapsed": false
   },
   "outputs": [
    {
     "data": {
      "image/png": "[encoded data removed]",
      "text/plain": [
       "<matplotlib.figure.Figure at 0x95bff98>"
      ]
     },
     "metadata": {},
     "output_type": "display_data"
    }
   ],
   "source": [
    "widget = ipywidgets.IntSlider(min=0,max=len(figs)-1, value=0)\n",
    "ipywidgets.interact(display_frame, frameno=widget)"
   ]
  },
  {
   "cell_type": "markdown",
   "metadata": {},
   "source": [
    "Superbee"
   ]
  },
  {
   "cell_type": "code",
   "execution_count": 191,
   "metadata": {
    "collapsed": false
   },
   "outputs": [
    {
     "name": "stdout",
     "output_type": "stream",
     "text": [
      "Took 300 time steps and produced 61 figures\n"
     ]
    }
   ],
   "source": [
    "figs = wave_limiter(x,tfinal,nsteps,u,qtrue1,nplot, phi_superbee,-0.5,1.5)"
   ]
  },
  {
   "cell_type": "code",
   "execution_count": 192,
   "metadata": {
    "collapsed": false
   },
   "outputs": [
    {
     "data": {
      "image/png": "[encoded data removed]",
      "text/plain": [
       "<matplotlib.figure.Figure at 0x9a91e80>"
      ]
     },
     "metadata": {},
     "output_type": "display_data"
    }
   ],
   "source": [
    "widget = ipywidgets.IntSlider(min=0,max=len(figs)-1, value=0)\n",
    "ipywidgets.interact(display_frame, frameno=widget)"
   ]
  },
  {
   "cell_type": "markdown",
   "metadata": {},
   "source": [
    "## Fig 6.3"
   ]
  },
  {
   "cell_type": "code",
   "execution_count": 193,
   "metadata": {
    "collapsed": true
   },
   "outputs": [],
   "source": [
    "def qtrue2(x,t,u):\n",
    "    x0 = x - u*t   # trace back characteristic to time 0\n",
    "    x0 = mod(x0, 1.)  # use periodic boundary conditions to map to [0,1]\n",
    "    q=exp(-200*(x0 - 0.5)**2) * sin(80*x0)\n",
    "    return q"
   ]
  },
  {
   "cell_type": "code",
   "execution_count": 194,
   "metadata": {
    "collapsed": false
   },
   "outputs": [
    {
     "name": "stdout",
     "output_type": "stream",
     "text": [
      "dx = 0.0200, dt = 0.0167, Courant number is cfl =  0.83\n"
     ]
    }
   ],
   "source": [
    "xlower = 0.\n",
    "xupper = 1.\n",
    "mx = 50\n",
    "dx = float(xupper-xlower)/mx\n",
    "\n",
    "# finite volume cell centers:\n",
    "x = linspace(xlower+0.5*dx, xupper-0.5*dx, mx)\n",
    "u = 1.\n",
    "\n",
    "tfinal = 10.0\n",
    "nsteps = 600\n",
    "dt = float(tfinal)/nsteps\n",
    "udtdx = u*dt/dx\n",
    "cfl = abs(udtdx)\n",
    "print(\"dx = %6.4f, dt = %6.4f, Courant number is cfl = %5.2f\" % (dx,dt,cfl))\n",
    "\n",
    "# Run the upwind method, which returns the set of figures, \n",
    "# plotting every nplot steps:\n",
    "nplot = 10"
   ]
  },
  {
   "cell_type": "markdown",
   "metadata": {},
   "source": [
    "Upwind"
   ]
  },
  {
   "cell_type": "code",
   "execution_count": 195,
   "metadata": {
    "collapsed": false
   },
   "outputs": [
    {
     "name": "stdout",
     "output_type": "stream",
     "text": [
      "Took 600 time steps and produced 61 figures\n"
     ]
    }
   ],
   "source": [
    "figs = wave_limiter(x,tfinal,nsteps,u,qtrue2,nplot, phi_upwind,-1.0,1.5)"
   ]
  },
  {
   "cell_type": "code",
   "execution_count": 196,
   "metadata": {
    "collapsed": false
   },
   "outputs": [
    {
     "data": {
      "image/png": "[encoded data removed]",
      "text/plain": [
       "<matplotlib.figure.Figure at 0x92642e8>"
      ]
     },
     "metadata": {},
     "output_type": "display_data"
    }
   ],
   "source": [
    "widget = ipywidgets.IntSlider(min=0,max=len(figs)-1, value=0)\n",
    "ipywidgets.interact(display_frame, frameno=widget)"
   ]
  },
  {
   "cell_type": "markdown",
   "metadata": {},
   "source": [
    "Lax-Wendroff"
   ]
  },
  {
   "cell_type": "code",
   "execution_count": 197,
   "metadata": {
    "collapsed": false
   },
   "outputs": [
    {
     "name": "stdout",
     "output_type": "stream",
     "text": [
      "Took 600 time steps and produced 61 figures\n"
     ]
    }
   ],
   "source": [
    "figs = wave_limiter(x,tfinal,nsteps,u,qtrue2,nplot, phi_LW,-1.0,1.5)"
   ]
  },
  {
   "cell_type": "code",
   "execution_count": 198,
   "metadata": {
    "collapsed": false
   },
   "outputs": [
    {
     "data": {
      "image/png": "[encoded data removed]",
      "text/plain": [
       "<matplotlib.figure.Figure at 0x7b721d0>"
      ]
     },
     "metadata": {},
     "output_type": "display_data"
    }
   ],
   "source": [
    "widget = ipywidgets.IntSlider(min=0,max=len(figs)-1, value=0)\n",
    "ipywidgets.interact(display_frame, frameno=widget)"
   ]
  },
  {
   "cell_type": "markdown",
   "metadata": {},
   "source": [
    "Superbee"
   ]
  },
  {
   "cell_type": "code",
   "execution_count": 199,
   "metadata": {
    "collapsed": false
   },
   "outputs": [
    {
     "name": "stdout",
     "output_type": "stream",
     "text": [
      "Took 600 time steps and produced 61 figures\n"
     ]
    }
   ],
   "source": [
    "figs = wave_limiter(x,tfinal,nsteps,u,qtrue2,nplot, phi_superbee,-1.0,1.5)"
   ]
  },
  {
   "cell_type": "code",
   "execution_count": 200,
   "metadata": {
    "collapsed": false
   },
   "outputs": [
    {
     "data": {
      "image/png": "[encoded data removed]",
      "text/plain": [
       "<matplotlib.figure.Figure at 0xc8c2b38>"
      ]
     },
     "metadata": {},
     "output_type": "display_data"
    }
   ],
   "source": [
    "widget = ipywidgets.IntSlider(min=0,max=len(figs)-1, value=0)\n",
    "ipywidgets.interact(display_frame, frameno=widget)"
   ]
  },
  {
   "cell_type": "code",
   "execution_count": null,
   "metadata": {
    "collapsed": true
   },
   "outputs": [],
   "source": []
  }
 ],
 "metadata": {
  "kernelspec": {
   "display_name": "Python [Root]",
   "language": "python",
   "name": "Python [Root]"
  },
  "language_info": {
   "codemirror_mode": {
    "name": "ipython",
    "version": 3
   },
   "file_extension": ".py",
   "mimetype": "text/x-python",
   "name": "python",
   "nbconvert_exporter": "python",
   "pygments_lexer": "ipython3",
   "version": "3.5.1"
  }
 },
 "nbformat": 4,
 "nbformat_minor": 0
}
